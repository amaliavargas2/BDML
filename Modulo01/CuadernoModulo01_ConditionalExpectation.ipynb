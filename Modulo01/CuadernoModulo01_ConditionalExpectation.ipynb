{
  "cells": [
    {
      "cell_type": "markdown",
      "id": "e53dc4f6",
      "metadata": {
        "id": "e53dc4f6"
      },
      "source": [
        "<div >\n",
        "<img src = \"../banner.jpg\" />\n",
        "</div>"
      ]
    },
    {
      "cell_type": "markdown",
      "id": "8fa1c83b",
      "metadata": {
        "id": "8fa1c83b"
      },
      "source": [
        "<a target=\"_blank\" href=\"https://colab.research.google.com/github/ignaciomsarmiento/BDML_202501/blob/main/Modulo01/CuadernoModulo01_ConditionalExpectation.ipynb\">\n",
        "  <img src=\"https://colab.research.google.com/assets/colab-badge.svg\" alt=\"Open In Colab\"/>\n",
        "</a>"
      ]
    },
    {
      "cell_type": "markdown",
      "id": "32d87f3f",
      "metadata": {
        "id": "32d87f3f"
      },
      "source": [
        "# Lógica basica de la predicción con regresión lineal\n",
        "\n",
        "Nuestro objetivo  es construir un modelo predictivo de salario\n",
        "\n",
        "$$\n",
        "w = f(X) + u\n",
        "$$\n",
        "\n",
        "donde w es el salario y X es una matriz que incluye posibles variables/predictores explicativas (ej. educación, edad, educación de los padres, habilidad cognitiva, etc.).\n",
        "\n",
        "Un ejemplo de modelo predictivo es la regresión lineal con una forma funcional específica:\n",
        "\n",
        "$$\n",
        "ln(w)  = \\beta_0 + \\beta_1 X_1 + \\dots + \\beta_p X_p + u\n",
        "$$\n",
        "\n",
        "donde $ln(w)$ es el logaritmo del salario.\n",
        "\n",
        "Para ilustrar, usaré una muestra del NLSY97. El NLSY97 es una muestra representativa a nivel nacional de 8.984 hombres y mujeres nacidos entre 1980 y 1984 y que vivían en los Estados Unidos durante la encuesta inicial de 1997. Los participantes tenían entre 12 y 16 años al 31 de diciembre de 1996. Las entrevistas se realizaron anualmente desde 1997 hasta 2011 y cada dos años desde entonces.\n",
        "\n",
        "Carguemos los paquetes."
      ]
    },
    {
      "cell_type": "code",
      "execution_count": null,
      "id": "a4b00b42",
      "metadata": {
        "vscode": {
          "languageId": "r"
        },
        "id": "a4b00b42"
      },
      "outputs": [],
      "source": [
        "# install.packages(\"pacman\") #Correr esta linea en Google Colab"
      ]
    },
    {
      "cell_type": "code",
      "execution_count": null,
      "id": "d86d5977",
      "metadata": {
        "vscode": {
          "languageId": "r"
        },
        "id": "d86d5977",
        "outputId": "42aac6bf-f7bd-464d-877d-0d2bdf2ed04e"
      },
      "outputs": [
        {
          "name": "stderr",
          "output_type": "stream",
          "text": [
            "Loading required package: pacman\n",
            "\n"
          ]
        }
      ],
      "source": [
        "# Cargamos los paquetes\n",
        "require(\"pacman\")\n",
        "\n",
        "p_load(\"tidyverse\",\"stargazer\")\n"
      ]
    },
    {
      "cell_type": "markdown",
      "id": "6acb141f",
      "metadata": {
        "id": "6acb141f"
      },
      "source": [
        "Cargamos la base:"
      ]
    },
    {
      "cell_type": "code",
      "execution_count": null,
      "id": "0f4546c8",
      "metadata": {
        "vscode": {
          "languageId": "r"
        },
        "id": "0f4546c8",
        "outputId": "013632dc-434b-4d6d-ae9b-b4a773bea26f"
      },
      "outputs": [
        {
          "name": "stderr",
          "output_type": "stream",
          "text": [
            "\u001b[1mRows: \u001b[22m\u001b[34m1266\u001b[39m \u001b[1mColumns: \u001b[22m\u001b[34m994\u001b[39m\n",
            "\u001b[36m──\u001b[39m \u001b[1mColumn specification\u001b[22m \u001b[36m──────────────────────────────────────────────────────────────────────────────────────────────────────────────────────────────────────────────────────────\u001b[39m\n",
            "\u001b[1mDelimiter:\u001b[22m \",\"\n",
            "\u001b[32mdbl\u001b[39m (994): lnw_2016, educ, black, hispanic, other, exp, afqt, mom_educ, dad_...\n",
            "\n",
            "\u001b[36mℹ\u001b[39m Use `spec()` to retrieve the full column specification for this data.\n",
            "\u001b[36mℹ\u001b[39m Specify the column types or set `show_col_types = FALSE` to quiet this message.\n"
          ]
        }
      ],
      "source": [
        "nlsy <- read_csv('https://raw.githubusercontent.com/ignaciomsarmiento/datasets/main/nlsy97.csv')\n",
        "\n",
        "#Housekeeping\n",
        "nlsy <- nlsy  %>%   drop_na(educ) #dropea los valores faltantes (NA)"
      ]
    },
    {
      "cell_type": "code",
      "execution_count": null,
      "id": "676de3bf",
      "metadata": {
        "vscode": {
          "languageId": "r"
        },
        "id": "676de3bf",
        "outputId": "f090a4a7-6851-4d20-cb2c-6740afe12863"
      },
      "outputs": [
        {
          "data": {
            "text/html": [
              "<table class=\"dataframe\">\n",
              "<caption>A tibble: 6 × 994</caption>\n",
              "<thead>\n",
              "\t<tr><th scope=col>lnw_2016</th><th scope=col>educ</th><th scope=col>black</th><th scope=col>hispanic</th><th scope=col>other</th><th scope=col>exp</th><th scope=col>afqt</th><th scope=col>mom_educ</th><th scope=col>dad_educ</th><th scope=col>yhea_100_1997</th><th scope=col>⋯</th><th scope=col>_XPexp_13</th><th scope=col>_XPexp_14</th><th scope=col>_XPexp_16</th><th scope=col>_XPexp_17</th><th scope=col>_XPexp_18</th><th scope=col>_XPexp_19</th><th scope=col>_XPexp_20</th><th scope=col>_XPexp_21</th><th scope=col>_XPexp_22</th><th scope=col>_XPexp_23</th></tr>\n",
              "\t<tr><th scope=col>&lt;dbl&gt;</th><th scope=col>&lt;dbl&gt;</th><th scope=col>&lt;dbl&gt;</th><th scope=col>&lt;dbl&gt;</th><th scope=col>&lt;dbl&gt;</th><th scope=col>&lt;dbl&gt;</th><th scope=col>&lt;dbl&gt;</th><th scope=col>&lt;dbl&gt;</th><th scope=col>&lt;dbl&gt;</th><th scope=col>&lt;dbl&gt;</th><th scope=col>⋯</th><th scope=col>&lt;dbl&gt;</th><th scope=col>&lt;dbl&gt;</th><th scope=col>&lt;dbl&gt;</th><th scope=col>&lt;dbl&gt;</th><th scope=col>&lt;dbl&gt;</th><th scope=col>&lt;dbl&gt;</th><th scope=col>&lt;dbl&gt;</th><th scope=col>&lt;dbl&gt;</th><th scope=col>&lt;dbl&gt;</th><th scope=col>&lt;dbl&gt;</th></tr>\n",
              "</thead>\n",
              "<tbody>\n",
              "\t<tr><td>4.076898</td><td>16</td><td>0</td><td>0</td><td>0</td><td>11</td><td>7.0724</td><td>12</td><td>12</td><td>3</td><td>⋯</td><td>0</td><td>0</td><td>0</td><td>0</td><td>0</td><td>0</td><td>0</td><td>0</td><td>0</td><td>0</td></tr>\n",
              "\t<tr><td>3.294138</td><td> 9</td><td>0</td><td>0</td><td>0</td><td>19</td><td>4.7481</td><td> 9</td><td>10</td><td>2</td><td>⋯</td><td>0</td><td>0</td><td>0</td><td>0</td><td>0</td><td>1</td><td>0</td><td>0</td><td>0</td><td>0</td></tr>\n",
              "\t<tr><td>2.830896</td><td> 9</td><td>0</td><td>1</td><td>0</td><td>22</td><td>1.1987</td><td>12</td><td> 9</td><td>3</td><td>⋯</td><td>0</td><td>0</td><td>0</td><td>0</td><td>0</td><td>0</td><td>0</td><td>0</td><td>1</td><td>0</td></tr>\n",
              "\t<tr><td>4.306459</td><td>16</td><td>0</td><td>0</td><td>0</td><td>13</td><td>8.9321</td><td>16</td><td>18</td><td>2</td><td>⋯</td><td>1</td><td>0</td><td>0</td><td>0</td><td>0</td><td>0</td><td>0</td><td>0</td><td>0</td><td>0</td></tr>\n",
              "\t<tr><td>5.991465</td><td>16</td><td>0</td><td>1</td><td>0</td><td>15</td><td>2.2618</td><td>16</td><td>16</td><td>1</td><td>⋯</td><td>0</td><td>0</td><td>0</td><td>0</td><td>0</td><td>0</td><td>0</td><td>0</td><td>0</td><td>0</td></tr>\n",
              "\t<tr><td>4.711924</td><td>16</td><td>0</td><td>0</td><td>0</td><td>14</td><td>8.9502</td><td>18</td><td>20</td><td>1</td><td>⋯</td><td>0</td><td>1</td><td>0</td><td>0</td><td>0</td><td>0</td><td>0</td><td>0</td><td>0</td><td>0</td></tr>\n",
              "</tbody>\n",
              "</table>\n"
            ],
            "text/latex": [
              "A tibble: 6 × 994\n",
              "\\begin{tabular}{lllllllllllllllllllll}\n",
              " lnw\\_2016 & educ & black & hispanic & other & exp & afqt & mom\\_educ & dad\\_educ & yhea\\_100\\_1997 & ⋯ & \\_XPexp\\_13 & \\_XPexp\\_14 & \\_XPexp\\_16 & \\_XPexp\\_17 & \\_XPexp\\_18 & \\_XPexp\\_19 & \\_XPexp\\_20 & \\_XPexp\\_21 & \\_XPexp\\_22 & \\_XPexp\\_23\\\\\n",
              " <dbl> & <dbl> & <dbl> & <dbl> & <dbl> & <dbl> & <dbl> & <dbl> & <dbl> & <dbl> & ⋯ & <dbl> & <dbl> & <dbl> & <dbl> & <dbl> & <dbl> & <dbl> & <dbl> & <dbl> & <dbl>\\\\\n",
              "\\hline\n",
              "\t 4.076898 & 16 & 0 & 0 & 0 & 11 & 7.0724 & 12 & 12 & 3 & ⋯ & 0 & 0 & 0 & 0 & 0 & 0 & 0 & 0 & 0 & 0\\\\\n",
              "\t 3.294138 &  9 & 0 & 0 & 0 & 19 & 4.7481 &  9 & 10 & 2 & ⋯ & 0 & 0 & 0 & 0 & 0 & 1 & 0 & 0 & 0 & 0\\\\\n",
              "\t 2.830896 &  9 & 0 & 1 & 0 & 22 & 1.1987 & 12 &  9 & 3 & ⋯ & 0 & 0 & 0 & 0 & 0 & 0 & 0 & 0 & 1 & 0\\\\\n",
              "\t 4.306459 & 16 & 0 & 0 & 0 & 13 & 8.9321 & 16 & 18 & 2 & ⋯ & 1 & 0 & 0 & 0 & 0 & 0 & 0 & 0 & 0 & 0\\\\\n",
              "\t 5.991465 & 16 & 0 & 1 & 0 & 15 & 2.2618 & 16 & 16 & 1 & ⋯ & 0 & 0 & 0 & 0 & 0 & 0 & 0 & 0 & 0 & 0\\\\\n",
              "\t 4.711924 & 16 & 0 & 0 & 0 & 14 & 8.9502 & 18 & 20 & 1 & ⋯ & 0 & 1 & 0 & 0 & 0 & 0 & 0 & 0 & 0 & 0\\\\\n",
              "\\end{tabular}\n"
            ],
            "text/markdown": [
              "\n",
              "A tibble: 6 × 994\n",
              "\n",
              "| lnw_2016 &lt;dbl&gt; | educ &lt;dbl&gt; | black &lt;dbl&gt; | hispanic &lt;dbl&gt; | other &lt;dbl&gt; | exp &lt;dbl&gt; | afqt &lt;dbl&gt; | mom_educ &lt;dbl&gt; | dad_educ &lt;dbl&gt; | yhea_100_1997 &lt;dbl&gt; | ⋯ ⋯ | _XPexp_13 &lt;dbl&gt; | _XPexp_14 &lt;dbl&gt; | _XPexp_16 &lt;dbl&gt; | _XPexp_17 &lt;dbl&gt; | _XPexp_18 &lt;dbl&gt; | _XPexp_19 &lt;dbl&gt; | _XPexp_20 &lt;dbl&gt; | _XPexp_21 &lt;dbl&gt; | _XPexp_22 &lt;dbl&gt; | _XPexp_23 &lt;dbl&gt; |\n",
              "|---|---|---|---|---|---|---|---|---|---|---|---|---|---|---|---|---|---|---|---|---|\n",
              "| 4.076898 | 16 | 0 | 0 | 0 | 11 | 7.0724 | 12 | 12 | 3 | ⋯ | 0 | 0 | 0 | 0 | 0 | 0 | 0 | 0 | 0 | 0 |\n",
              "| 3.294138 |  9 | 0 | 0 | 0 | 19 | 4.7481 |  9 | 10 | 2 | ⋯ | 0 | 0 | 0 | 0 | 0 | 1 | 0 | 0 | 0 | 0 |\n",
              "| 2.830896 |  9 | 0 | 1 | 0 | 22 | 1.1987 | 12 |  9 | 3 | ⋯ | 0 | 0 | 0 | 0 | 0 | 0 | 0 | 0 | 1 | 0 |\n",
              "| 4.306459 | 16 | 0 | 0 | 0 | 13 | 8.9321 | 16 | 18 | 2 | ⋯ | 1 | 0 | 0 | 0 | 0 | 0 | 0 | 0 | 0 | 0 |\n",
              "| 5.991465 | 16 | 0 | 1 | 0 | 15 | 2.2618 | 16 | 16 | 1 | ⋯ | 0 | 0 | 0 | 0 | 0 | 0 | 0 | 0 | 0 | 0 |\n",
              "| 4.711924 | 16 | 0 | 0 | 0 | 14 | 8.9502 | 18 | 20 | 1 | ⋯ | 0 | 1 | 0 | 0 | 0 | 0 | 0 | 0 | 0 | 0 |\n",
              "\n"
            ],
            "text/plain": [
              "  lnw_2016 educ black hispanic other exp afqt   mom_educ dad_educ yhea_100_1997\n",
              "1 4.076898 16   0     0        0     11  7.0724 12       12       3            \n",
              "2 3.294138  9   0     0        0     19  4.7481  9       10       2            \n",
              "3 2.830896  9   0     1        0     22  1.1987 12        9       3            \n",
              "4 4.306459 16   0     0        0     13  8.9321 16       18       2            \n",
              "5 5.991465 16   0     1        0     15  2.2618 16       16       1            \n",
              "6 4.711924 16   0     0        0     14  8.9502 18       20       1            \n",
              "  ⋯ _XPexp_13 _XPexp_14 _XPexp_16 _XPexp_17 _XPexp_18 _XPexp_19 _XPexp_20\n",
              "1 ⋯ 0         0         0         0         0         0         0        \n",
              "2 ⋯ 0         0         0         0         0         1         0        \n",
              "3 ⋯ 0         0         0         0         0         0         0        \n",
              "4 ⋯ 1         0         0         0         0         0         0        \n",
              "5 ⋯ 0         0         0         0         0         0         0        \n",
              "6 ⋯ 0         1         0         0         0         0         0        \n",
              "  _XPexp_21 _XPexp_22 _XPexp_23\n",
              "1 0         0         0        \n",
              "2 0         0         0        \n",
              "3 0         1         0        \n",
              "4 0         0         0        \n",
              "5 0         0         0        \n",
              "6 0         0         0        "
            ]
          },
          "metadata": {},
          "output_type": "display_data"
        }
      ],
      "source": [
        "head(nlsy)"
      ]
    },
    {
      "cell_type": "markdown",
      "id": "f7e8f67a",
      "metadata": {
        "id": "f7e8f67a"
      },
      "source": [
        "## Regresión Lineal"
      ]
    },
    {
      "cell_type": "markdown",
      "id": "e1f9bac2-d4fd-498e-abdc-f90777959a97",
      "metadata": {
        "id": "e1f9bac2-d4fd-498e-abdc-f90777959a97"
      },
      "source": [
        "$$\n",
        "\\ln(w_i) = \\beta_0 +  \\beta_1 educ_i  + u_i\n",
        "$$"
      ]
    },
    {
      "cell_type": "code",
      "execution_count": null,
      "id": "61bf7b3d",
      "metadata": {
        "id": "61bf7b3d"
      },
      "outputs": [],
      "source": [
        "reg1<- lm(lnw_2016~educ,   data = nlsy)"
      ]
    },
    {
      "cell_type": "code",
      "execution_count": null,
      "id": "07c94def",
      "metadata": {
        "id": "07c94def",
        "outputId": "2ceaec99-d8a1-47ea-b5a1-2dc08cf7e8ac"
      },
      "outputs": [
        {
          "name": "stdout",
          "output_type": "stream",
          "text": [
            "\n",
            "===============================================\n",
            "                        Dependent variable:    \n",
            "                    ---------------------------\n",
            "                             lnw_2016          \n",
            "-----------------------------------------------\n",
            "educ                         0.077***          \n",
            "                              (0.008)          \n",
            "                                               \n",
            "Constant                     2.003***          \n",
            "                              (0.119)          \n",
            "                                               \n",
            "-----------------------------------------------\n",
            "Observations                   1,266           \n",
            "R2                             0.067           \n",
            "Adjusted R2                    0.066           \n",
            "Residual Std. Error      0.840 (df = 1264)     \n",
            "F Statistic          90.128*** (df = 1; 1264)  \n",
            "===============================================\n",
            "Note:               *p<0.1; **p<0.05; ***p<0.01\n"
          ]
        }
      ],
      "source": [
        "stargazer(reg1,type=\"text\") #Similar en stata: outreg2"
      ]
    },
    {
      "cell_type": "markdown",
      "id": "9727ac8e",
      "metadata": {
        "id": "9727ac8e"
      },
      "source": [
        "## Predicción\n",
        "\n",
        "$$\n",
        "\\hat{\\ln(w_i)} = \\hat{\\beta}_0 +  \\hat{\\beta}_1 educ\n",
        "$$"
      ]
    },
    {
      "cell_type": "code",
      "execution_count": null,
      "id": "ebc5c149",
      "metadata": {
        "id": "ebc5c149",
        "outputId": "380bc79c-8ef8-437d-962f-aa923abf91e4"
      },
      "outputs": [
        {
          "data": {
            "text/html": [
              "<style>\n",
              ".dl-inline {width: auto; margin:0; padding: 0}\n",
              ".dl-inline>dt, .dl-inline>dd {float: none; width: auto; display: inline-block}\n",
              ".dl-inline>dt::after {content: \":\\0020\"; padding-right: .5ex}\n",
              ".dl-inline>dt:not(:first-of-type) {padding-left: .5ex}\n",
              "</style><dl class=dl-inline><dt>(Intercept)</dt><dd>2.00307383457414</dd><dt>educ</dt><dd>0.0773200389560835</dd></dl>\n"
            ],
            "text/latex": [
              "\\begin{description*}\n",
              "\\item[(Intercept)] 2.00307383457414\n",
              "\\item[educ] 0.0773200389560835\n",
              "\\end{description*}\n"
            ],
            "text/markdown": [
              "(Intercept)\n",
              ":   2.00307383457414educ\n",
              ":   0.0773200389560835\n",
              "\n"
            ],
            "text/plain": [
              "(Intercept)        educ \n",
              " 2.00307383  0.07732004 "
            ]
          },
          "metadata": {},
          "output_type": "display_data"
        }
      ],
      "source": [
        "reg1$coef"
      ]
    },
    {
      "cell_type": "code",
      "execution_count": null,
      "id": "9fc31b49",
      "metadata": {
        "id": "9fc31b49",
        "outputId": "ccee274a-9432-4e98-9013-a5830698c174"
      },
      "outputs": [
        {
          "data": {
            "text/html": [
              "<strong>(Intercept):</strong> 2.00307383457414"
            ],
            "text/latex": [
              "\\textbf{(Intercept):} 2.00307383457414"
            ],
            "text/markdown": [
              "**(Intercept):** 2.00307383457414"
            ],
            "text/plain": [
              "(Intercept) \n",
              "   2.003074 "
            ]
          },
          "metadata": {},
          "output_type": "display_data"
        }
      ],
      "source": [
        "reg1$coef[1]"
      ]
    },
    {
      "cell_type": "code",
      "execution_count": null,
      "id": "717b221f",
      "metadata": {
        "id": "717b221f",
        "outputId": "cac8049d-f64e-43b8-ef2e-28db6fa50dde"
      },
      "outputs": [
        {
          "data": {
            "text/html": [
              "<strong>(Intercept):</strong> 3.24019445787147"
            ],
            "text/latex": [
              "\\textbf{(Intercept):} 3.24019445787147"
            ],
            "text/markdown": [
              "**(Intercept):** 3.24019445787147"
            ],
            "text/plain": [
              "(Intercept) \n",
              "   3.240194 "
            ]
          },
          "metadata": {},
          "output_type": "display_data"
        }
      ],
      "source": [
        "reg1$coef[1]+reg1$coef[2]*16"
      ]
    },
    {
      "cell_type": "code",
      "execution_count": null,
      "id": "1cd2d2e4",
      "metadata": {
        "id": "1cd2d2e4",
        "outputId": "266e63e5-83e7-4bc5-f489-44e089f29df8"
      },
      "outputs": [
        {
          "data": {
            "text/html": [
              "<strong>(Intercept):</strong> 25.5386874633289"
            ],
            "text/latex": [
              "\\textbf{(Intercept):} 25.5386874633289"
            ],
            "text/markdown": [
              "**(Intercept):** 25.5386874633289"
            ],
            "text/plain": [
              "(Intercept) \n",
              "   25.53869 "
            ]
          },
          "metadata": {},
          "output_type": "display_data"
        }
      ],
      "source": [
        "exp(reg1$coef[1]+reg1$coef[2]*16)"
      ]
    },
    {
      "cell_type": "markdown",
      "id": "c0f44a67",
      "metadata": {
        "id": "c0f44a67"
      },
      "source": [
        "## Modelando $E(y|X)$"
      ]
    },
    {
      "cell_type": "markdown",
      "id": "216e9107-aa5d-4960-b181-ed9acb8ae18e",
      "metadata": {
        "id": "216e9107-aa5d-4960-b181-ed9acb8ae18e"
      },
      "source": [
        "Vamos a constuir regresores polinomiales de forma tal de tener reglas de predicción más flexibles y potencialmente mejores."
      ]
    },
    {
      "cell_type": "code",
      "execution_count": null,
      "id": "1c589b4f",
      "metadata": {
        "vscode": {
          "languageId": "r"
        },
        "id": "1c589b4f"
      },
      "outputs": [],
      "source": [
        "#Polinomios de educación\n",
        "\n",
        "nlsy <- nlsy  %>% mutate(educ2=educ^2,\n",
        "                         educ3=educ^3,\n",
        "                         educ4=educ^4,\n",
        "                         educ5=educ^5,\n",
        "                         educ6=educ^6,\n",
        "                         educ7=educ^7,\n",
        "                         educ8=educ^8\n",
        "                        )"
      ]
    },
    {
      "cell_type": "code",
      "execution_count": null,
      "id": "ff9a7d77",
      "metadata": {
        "vscode": {
          "languageId": "r"
        },
        "id": "ff9a7d77",
        "outputId": "2d1177df-6a10-4fbf-9bb1-ee2b51521fe2"
      },
      "outputs": [
        {
          "data": {
            "text/html": [
              "<table class=\"dataframe\">\n",
              "<caption>A tibble: 6 × 1001</caption>\n",
              "<thead>\n",
              "\t<tr><th scope=col>lnw_2016</th><th scope=col>educ</th><th scope=col>black</th><th scope=col>hispanic</th><th scope=col>other</th><th scope=col>exp</th><th scope=col>afqt</th><th scope=col>mom_educ</th><th scope=col>dad_educ</th><th scope=col>yhea_100_1997</th><th scope=col>⋯</th><th scope=col>_XPexp_21</th><th scope=col>_XPexp_22</th><th scope=col>_XPexp_23</th><th scope=col>educ2</th><th scope=col>educ3</th><th scope=col>educ4</th><th scope=col>educ5</th><th scope=col>educ6</th><th scope=col>educ7</th><th scope=col>educ8</th></tr>\n",
              "\t<tr><th scope=col>&lt;dbl&gt;</th><th scope=col>&lt;dbl&gt;</th><th scope=col>&lt;dbl&gt;</th><th scope=col>&lt;dbl&gt;</th><th scope=col>&lt;dbl&gt;</th><th scope=col>&lt;dbl&gt;</th><th scope=col>&lt;dbl&gt;</th><th scope=col>&lt;dbl&gt;</th><th scope=col>&lt;dbl&gt;</th><th scope=col>&lt;dbl&gt;</th><th scope=col>⋯</th><th scope=col>&lt;dbl&gt;</th><th scope=col>&lt;dbl&gt;</th><th scope=col>&lt;dbl&gt;</th><th scope=col>&lt;dbl&gt;</th><th scope=col>&lt;dbl&gt;</th><th scope=col>&lt;dbl&gt;</th><th scope=col>&lt;dbl&gt;</th><th scope=col>&lt;dbl&gt;</th><th scope=col>&lt;dbl&gt;</th><th scope=col>&lt;dbl&gt;</th></tr>\n",
              "</thead>\n",
              "<tbody>\n",
              "\t<tr><td>4.076898</td><td>16</td><td>0</td><td>0</td><td>0</td><td>11</td><td>7.0724</td><td>12</td><td>12</td><td>3</td><td>⋯</td><td>0</td><td>0</td><td>0</td><td>256</td><td>4096</td><td>65536</td><td>1048576</td><td>16777216</td><td>268435456</td><td>4294967296</td></tr>\n",
              "\t<tr><td>3.294138</td><td> 9</td><td>0</td><td>0</td><td>0</td><td>19</td><td>4.7481</td><td> 9</td><td>10</td><td>2</td><td>⋯</td><td>0</td><td>0</td><td>0</td><td> 81</td><td> 729</td><td> 6561</td><td>  59049</td><td>  531441</td><td>  4782969</td><td>  43046721</td></tr>\n",
              "\t<tr><td>2.830896</td><td> 9</td><td>0</td><td>1</td><td>0</td><td>22</td><td>1.1987</td><td>12</td><td> 9</td><td>3</td><td>⋯</td><td>0</td><td>1</td><td>0</td><td> 81</td><td> 729</td><td> 6561</td><td>  59049</td><td>  531441</td><td>  4782969</td><td>  43046721</td></tr>\n",
              "\t<tr><td>4.306459</td><td>16</td><td>0</td><td>0</td><td>0</td><td>13</td><td>8.9321</td><td>16</td><td>18</td><td>2</td><td>⋯</td><td>0</td><td>0</td><td>0</td><td>256</td><td>4096</td><td>65536</td><td>1048576</td><td>16777216</td><td>268435456</td><td>4294967296</td></tr>\n",
              "\t<tr><td>5.991465</td><td>16</td><td>0</td><td>1</td><td>0</td><td>15</td><td>2.2618</td><td>16</td><td>16</td><td>1</td><td>⋯</td><td>0</td><td>0</td><td>0</td><td>256</td><td>4096</td><td>65536</td><td>1048576</td><td>16777216</td><td>268435456</td><td>4294967296</td></tr>\n",
              "\t<tr><td>4.711924</td><td>16</td><td>0</td><td>0</td><td>0</td><td>14</td><td>8.9502</td><td>18</td><td>20</td><td>1</td><td>⋯</td><td>0</td><td>0</td><td>0</td><td>256</td><td>4096</td><td>65536</td><td>1048576</td><td>16777216</td><td>268435456</td><td>4294967296</td></tr>\n",
              "</tbody>\n",
              "</table>\n"
            ],
            "text/latex": [
              "A tibble: 6 × 1001\n",
              "\\begin{tabular}{lllllllllllllllllllll}\n",
              " lnw\\_2016 & educ & black & hispanic & other & exp & afqt & mom\\_educ & dad\\_educ & yhea\\_100\\_1997 & ⋯ & \\_XPexp\\_21 & \\_XPexp\\_22 & \\_XPexp\\_23 & educ2 & educ3 & educ4 & educ5 & educ6 & educ7 & educ8\\\\\n",
              " <dbl> & <dbl> & <dbl> & <dbl> & <dbl> & <dbl> & <dbl> & <dbl> & <dbl> & <dbl> & ⋯ & <dbl> & <dbl> & <dbl> & <dbl> & <dbl> & <dbl> & <dbl> & <dbl> & <dbl> & <dbl>\\\\\n",
              "\\hline\n",
              "\t 4.076898 & 16 & 0 & 0 & 0 & 11 & 7.0724 & 12 & 12 & 3 & ⋯ & 0 & 0 & 0 & 256 & 4096 & 65536 & 1048576 & 16777216 & 268435456 & 4294967296\\\\\n",
              "\t 3.294138 &  9 & 0 & 0 & 0 & 19 & 4.7481 &  9 & 10 & 2 & ⋯ & 0 & 0 & 0 &  81 &  729 &  6561 &   59049 &   531441 &   4782969 &   43046721\\\\\n",
              "\t 2.830896 &  9 & 0 & 1 & 0 & 22 & 1.1987 & 12 &  9 & 3 & ⋯ & 0 & 1 & 0 &  81 &  729 &  6561 &   59049 &   531441 &   4782969 &   43046721\\\\\n",
              "\t 4.306459 & 16 & 0 & 0 & 0 & 13 & 8.9321 & 16 & 18 & 2 & ⋯ & 0 & 0 & 0 & 256 & 4096 & 65536 & 1048576 & 16777216 & 268435456 & 4294967296\\\\\n",
              "\t 5.991465 & 16 & 0 & 1 & 0 & 15 & 2.2618 & 16 & 16 & 1 & ⋯ & 0 & 0 & 0 & 256 & 4096 & 65536 & 1048576 & 16777216 & 268435456 & 4294967296\\\\\n",
              "\t 4.711924 & 16 & 0 & 0 & 0 & 14 & 8.9502 & 18 & 20 & 1 & ⋯ & 0 & 0 & 0 & 256 & 4096 & 65536 & 1048576 & 16777216 & 268435456 & 4294967296\\\\\n",
              "\\end{tabular}\n"
            ],
            "text/markdown": [
              "\n",
              "A tibble: 6 × 1001\n",
              "\n",
              "| lnw_2016 &lt;dbl&gt; | educ &lt;dbl&gt; | black &lt;dbl&gt; | hispanic &lt;dbl&gt; | other &lt;dbl&gt; | exp &lt;dbl&gt; | afqt &lt;dbl&gt; | mom_educ &lt;dbl&gt; | dad_educ &lt;dbl&gt; | yhea_100_1997 &lt;dbl&gt; | ⋯ ⋯ | _XPexp_21 &lt;dbl&gt; | _XPexp_22 &lt;dbl&gt; | _XPexp_23 &lt;dbl&gt; | educ2 &lt;dbl&gt; | educ3 &lt;dbl&gt; | educ4 &lt;dbl&gt; | educ5 &lt;dbl&gt; | educ6 &lt;dbl&gt; | educ7 &lt;dbl&gt; | educ8 &lt;dbl&gt; |\n",
              "|---|---|---|---|---|---|---|---|---|---|---|---|---|---|---|---|---|---|---|---|---|\n",
              "| 4.076898 | 16 | 0 | 0 | 0 | 11 | 7.0724 | 12 | 12 | 3 | ⋯ | 0 | 0 | 0 | 256 | 4096 | 65536 | 1048576 | 16777216 | 268435456 | 4294967296 |\n",
              "| 3.294138 |  9 | 0 | 0 | 0 | 19 | 4.7481 |  9 | 10 | 2 | ⋯ | 0 | 0 | 0 |  81 |  729 |  6561 |   59049 |   531441 |   4782969 |   43046721 |\n",
              "| 2.830896 |  9 | 0 | 1 | 0 | 22 | 1.1987 | 12 |  9 | 3 | ⋯ | 0 | 1 | 0 |  81 |  729 |  6561 |   59049 |   531441 |   4782969 |   43046721 |\n",
              "| 4.306459 | 16 | 0 | 0 | 0 | 13 | 8.9321 | 16 | 18 | 2 | ⋯ | 0 | 0 | 0 | 256 | 4096 | 65536 | 1048576 | 16777216 | 268435456 | 4294967296 |\n",
              "| 5.991465 | 16 | 0 | 1 | 0 | 15 | 2.2618 | 16 | 16 | 1 | ⋯ | 0 | 0 | 0 | 256 | 4096 | 65536 | 1048576 | 16777216 | 268435456 | 4294967296 |\n",
              "| 4.711924 | 16 | 0 | 0 | 0 | 14 | 8.9502 | 18 | 20 | 1 | ⋯ | 0 | 0 | 0 | 256 | 4096 | 65536 | 1048576 | 16777216 | 268435456 | 4294967296 |\n",
              "\n"
            ],
            "text/plain": [
              "  lnw_2016 educ black hispanic other exp afqt   mom_educ dad_educ yhea_100_1997\n",
              "1 4.076898 16   0     0        0     11  7.0724 12       12       3            \n",
              "2 3.294138  9   0     0        0     19  4.7481  9       10       2            \n",
              "3 2.830896  9   0     1        0     22  1.1987 12        9       3            \n",
              "4 4.306459 16   0     0        0     13  8.9321 16       18       2            \n",
              "5 5.991465 16   0     1        0     15  2.2618 16       16       1            \n",
              "6 4.711924 16   0     0        0     14  8.9502 18       20       1            \n",
              "  ⋯ _XPexp_21 _XPexp_22 _XPexp_23 educ2 educ3 educ4 educ5   educ6    educ7    \n",
              "1 ⋯ 0         0         0         256   4096  65536 1048576 16777216 268435456\n",
              "2 ⋯ 0         0         0          81    729   6561   59049   531441   4782969\n",
              "3 ⋯ 0         1         0          81    729   6561   59049   531441   4782969\n",
              "4 ⋯ 0         0         0         256   4096  65536 1048576 16777216 268435456\n",
              "5 ⋯ 0         0         0         256   4096  65536 1048576 16777216 268435456\n",
              "6 ⋯ 0         0         0         256   4096  65536 1048576 16777216 268435456\n",
              "  educ8     \n",
              "1 4294967296\n",
              "2   43046721\n",
              "3   43046721\n",
              "4 4294967296\n",
              "5 4294967296\n",
              "6 4294967296"
            ]
          },
          "metadata": {},
          "output_type": "display_data"
        }
      ],
      "source": [
        "head(nlsy)"
      ]
    },
    {
      "cell_type": "markdown",
      "id": "9e866852",
      "metadata": {
        "id": "9e866852"
      },
      "source": [
        " Corremos la regresión"
      ]
    },
    {
      "cell_type": "code",
      "execution_count": null,
      "id": "c209a0c9",
      "metadata": {
        "vscode": {
          "languageId": "r"
        },
        "id": "c209a0c9"
      },
      "outputs": [],
      "source": [
        "reg2<- lm(lnw_2016~educ+ educ2 + educ3 + educ4 + educ5 + educ6 + educ7 +\n",
        "    educ8 ,   data = nlsy)\n"
      ]
    },
    {
      "cell_type": "code",
      "execution_count": null,
      "id": "50ca8d07",
      "metadata": {
        "vscode": {
          "languageId": "r"
        },
        "id": "50ca8d07",
        "outputId": "5baf303e-f08a-44c9-cea0-39c546f71484"
      },
      "outputs": [
        {
          "name": "stdout",
          "output_type": "stream",
          "text": [
            "\n",
            "=====================================================================\n",
            "                                   Dependent variable:               \n",
            "                    -------------------------------------------------\n",
            "                                        lnw_2016                     \n",
            "                              (1)                      (2)           \n",
            "---------------------------------------------------------------------\n",
            "educ                        0.077***                3,798.831*       \n",
            "                            (0.008)                (2,157.819)       \n",
            "                                                                     \n",
            "educ2                                              -1,040.673*       \n",
            "                                                    (578.718)        \n",
            "                                                                     \n",
            "educ3                                                160.193*        \n",
            "                                                     (87.500)        \n",
            "                                                                     \n",
            "educ4                                                -15.163*        \n",
            "                                                     (8.161)         \n",
            "                                                                     \n",
            "educ5                                                 0.904*         \n",
            "                                                     (0.481)         \n",
            "                                                                     \n",
            "educ6                                                -0.033*         \n",
            "                                                     (0.018)         \n",
            "                                                                     \n",
            "educ7                                                 0.001*         \n",
            "                                                     (0.0004)        \n",
            "                                                                     \n",
            "educ8                                               -0.00001*        \n",
            "                                                    (0.00000)        \n",
            "                                                                     \n",
            "Constant                    2.003***               -5,960.604*       \n",
            "                            (0.119)                (3,471.172)       \n",
            "                                                                     \n",
            "---------------------------------------------------------------------\n",
            "Observations                 1,266                    1,266          \n",
            "R2                           0.067                    0.075          \n",
            "Adjusted R2                  0.066                    0.069          \n",
            "Residual Std. Error    0.840 (df = 1264)        0.839 (df = 1257)    \n",
            "F Statistic         90.128*** (df = 1; 1264) 12.682*** (df = 8; 1257)\n",
            "=====================================================================\n",
            "Note:                                     *p<0.1; **p<0.05; ***p<0.01\n"
          ]
        }
      ],
      "source": [
        "stargazer(reg1,reg2,type=\"text\") #Similar en stata: outreg2"
      ]
    },
    {
      "cell_type": "code",
      "execution_count": null,
      "id": "18c41cbd",
      "metadata": {
        "vscode": {
          "languageId": "r"
        },
        "id": "18c41cbd"
      },
      "outputs": [],
      "source": [
        "#predict me simplifica hacer la operación X\\hat{\\beta}\n",
        "\n",
        "nlsy <- nlsy  %>% mutate(yhat=predict(reg2)) #con la función mutate\n",
        "\n"
      ]
    },
    {
      "cell_type": "code",
      "execution_count": null,
      "id": "fad3cc0d",
      "metadata": {
        "vscode": {
          "languageId": "r"
        },
        "id": "fad3cc0d",
        "outputId": "c74f5f0f-ce7a-4c69-ef0d-1356ea1967b9"
      },
      "outputs": [
        {
          "data": {
            "text/html": [
              "<table class=\"dataframe\">\n",
              "<caption>A tibble: 6 × 1002</caption>\n",
              "<thead>\n",
              "\t<tr><th scope=col>lnw_2016</th><th scope=col>educ</th><th scope=col>black</th><th scope=col>hispanic</th><th scope=col>other</th><th scope=col>exp</th><th scope=col>afqt</th><th scope=col>mom_educ</th><th scope=col>dad_educ</th><th scope=col>yhea_100_1997</th><th scope=col>⋯</th><th scope=col>_XPexp_22</th><th scope=col>_XPexp_23</th><th scope=col>educ2</th><th scope=col>educ3</th><th scope=col>educ4</th><th scope=col>educ5</th><th scope=col>educ6</th><th scope=col>educ7</th><th scope=col>educ8</th><th scope=col>yhat</th></tr>\n",
              "\t<tr><th scope=col>&lt;dbl&gt;</th><th scope=col>&lt;dbl&gt;</th><th scope=col>&lt;dbl&gt;</th><th scope=col>&lt;dbl&gt;</th><th scope=col>&lt;dbl&gt;</th><th scope=col>&lt;dbl&gt;</th><th scope=col>&lt;dbl&gt;</th><th scope=col>&lt;dbl&gt;</th><th scope=col>&lt;dbl&gt;</th><th scope=col>&lt;dbl&gt;</th><th scope=col>⋯</th><th scope=col>&lt;dbl&gt;</th><th scope=col>&lt;dbl&gt;</th><th scope=col>&lt;dbl&gt;</th><th scope=col>&lt;dbl&gt;</th><th scope=col>&lt;dbl&gt;</th><th scope=col>&lt;dbl&gt;</th><th scope=col>&lt;dbl&gt;</th><th scope=col>&lt;dbl&gt;</th><th scope=col>&lt;dbl&gt;</th><th scope=col>&lt;dbl&gt;</th></tr>\n",
              "</thead>\n",
              "<tbody>\n",
              "\t<tr><td>4.076898</td><td>16</td><td>0</td><td>0</td><td>0</td><td>11</td><td>7.0724</td><td>12</td><td>12</td><td>3</td><td>⋯</td><td>0</td><td>0</td><td>256</td><td>4096</td><td>65536</td><td>1048576</td><td>16777216</td><td>268435456</td><td>4294967296</td><td>3.311502</td></tr>\n",
              "\t<tr><td>3.294138</td><td> 9</td><td>0</td><td>0</td><td>0</td><td>19</td><td>4.7481</td><td> 9</td><td>10</td><td>2</td><td>⋯</td><td>0</td><td>0</td><td> 81</td><td> 729</td><td> 6561</td><td>  59049</td><td>  531441</td><td>  4782969</td><td>  43046721</td><td>2.661006</td></tr>\n",
              "\t<tr><td>2.830896</td><td> 9</td><td>0</td><td>1</td><td>0</td><td>22</td><td>1.1987</td><td>12</td><td> 9</td><td>3</td><td>⋯</td><td>1</td><td>0</td><td> 81</td><td> 729</td><td> 6561</td><td>  59049</td><td>  531441</td><td>  4782969</td><td>  43046721</td><td>2.661006</td></tr>\n",
              "\t<tr><td>4.306459</td><td>16</td><td>0</td><td>0</td><td>0</td><td>13</td><td>8.9321</td><td>16</td><td>18</td><td>2</td><td>⋯</td><td>0</td><td>0</td><td>256</td><td>4096</td><td>65536</td><td>1048576</td><td>16777216</td><td>268435456</td><td>4294967296</td><td>3.311502</td></tr>\n",
              "\t<tr><td>5.991465</td><td>16</td><td>0</td><td>1</td><td>0</td><td>15</td><td>2.2618</td><td>16</td><td>16</td><td>1</td><td>⋯</td><td>0</td><td>0</td><td>256</td><td>4096</td><td>65536</td><td>1048576</td><td>16777216</td><td>268435456</td><td>4294967296</td><td>3.311502</td></tr>\n",
              "\t<tr><td>4.711924</td><td>16</td><td>0</td><td>0</td><td>0</td><td>14</td><td>8.9502</td><td>18</td><td>20</td><td>1</td><td>⋯</td><td>0</td><td>0</td><td>256</td><td>4096</td><td>65536</td><td>1048576</td><td>16777216</td><td>268435456</td><td>4294967296</td><td>3.311502</td></tr>\n",
              "</tbody>\n",
              "</table>\n"
            ],
            "text/latex": [
              "A tibble: 6 × 1002\n",
              "\\begin{tabular}{lllllllllllllllllllll}\n",
              " lnw\\_2016 & educ & black & hispanic & other & exp & afqt & mom\\_educ & dad\\_educ & yhea\\_100\\_1997 & ⋯ & \\_XPexp\\_22 & \\_XPexp\\_23 & educ2 & educ3 & educ4 & educ5 & educ6 & educ7 & educ8 & yhat\\\\\n",
              " <dbl> & <dbl> & <dbl> & <dbl> & <dbl> & <dbl> & <dbl> & <dbl> & <dbl> & <dbl> & ⋯ & <dbl> & <dbl> & <dbl> & <dbl> & <dbl> & <dbl> & <dbl> & <dbl> & <dbl> & <dbl>\\\\\n",
              "\\hline\n",
              "\t 4.076898 & 16 & 0 & 0 & 0 & 11 & 7.0724 & 12 & 12 & 3 & ⋯ & 0 & 0 & 256 & 4096 & 65536 & 1048576 & 16777216 & 268435456 & 4294967296 & 3.311502\\\\\n",
              "\t 3.294138 &  9 & 0 & 0 & 0 & 19 & 4.7481 &  9 & 10 & 2 & ⋯ & 0 & 0 &  81 &  729 &  6561 &   59049 &   531441 &   4782969 &   43046721 & 2.661006\\\\\n",
              "\t 2.830896 &  9 & 0 & 1 & 0 & 22 & 1.1987 & 12 &  9 & 3 & ⋯ & 1 & 0 &  81 &  729 &  6561 &   59049 &   531441 &   4782969 &   43046721 & 2.661006\\\\\n",
              "\t 4.306459 & 16 & 0 & 0 & 0 & 13 & 8.9321 & 16 & 18 & 2 & ⋯ & 0 & 0 & 256 & 4096 & 65536 & 1048576 & 16777216 & 268435456 & 4294967296 & 3.311502\\\\\n",
              "\t 5.991465 & 16 & 0 & 1 & 0 & 15 & 2.2618 & 16 & 16 & 1 & ⋯ & 0 & 0 & 256 & 4096 & 65536 & 1048576 & 16777216 & 268435456 & 4294967296 & 3.311502\\\\\n",
              "\t 4.711924 & 16 & 0 & 0 & 0 & 14 & 8.9502 & 18 & 20 & 1 & ⋯ & 0 & 0 & 256 & 4096 & 65536 & 1048576 & 16777216 & 268435456 & 4294967296 & 3.311502\\\\\n",
              "\\end{tabular}\n"
            ],
            "text/markdown": [
              "\n",
              "A tibble: 6 × 1002\n",
              "\n",
              "| lnw_2016 &lt;dbl&gt; | educ &lt;dbl&gt; | black &lt;dbl&gt; | hispanic &lt;dbl&gt; | other &lt;dbl&gt; | exp &lt;dbl&gt; | afqt &lt;dbl&gt; | mom_educ &lt;dbl&gt; | dad_educ &lt;dbl&gt; | yhea_100_1997 &lt;dbl&gt; | ⋯ ⋯ | _XPexp_22 &lt;dbl&gt; | _XPexp_23 &lt;dbl&gt; | educ2 &lt;dbl&gt; | educ3 &lt;dbl&gt; | educ4 &lt;dbl&gt; | educ5 &lt;dbl&gt; | educ6 &lt;dbl&gt; | educ7 &lt;dbl&gt; | educ8 &lt;dbl&gt; | yhat &lt;dbl&gt; |\n",
              "|---|---|---|---|---|---|---|---|---|---|---|---|---|---|---|---|---|---|---|---|---|\n",
              "| 4.076898 | 16 | 0 | 0 | 0 | 11 | 7.0724 | 12 | 12 | 3 | ⋯ | 0 | 0 | 256 | 4096 | 65536 | 1048576 | 16777216 | 268435456 | 4294967296 | 3.311502 |\n",
              "| 3.294138 |  9 | 0 | 0 | 0 | 19 | 4.7481 |  9 | 10 | 2 | ⋯ | 0 | 0 |  81 |  729 |  6561 |   59049 |   531441 |   4782969 |   43046721 | 2.661006 |\n",
              "| 2.830896 |  9 | 0 | 1 | 0 | 22 | 1.1987 | 12 |  9 | 3 | ⋯ | 1 | 0 |  81 |  729 |  6561 |   59049 |   531441 |   4782969 |   43046721 | 2.661006 |\n",
              "| 4.306459 | 16 | 0 | 0 | 0 | 13 | 8.9321 | 16 | 18 | 2 | ⋯ | 0 | 0 | 256 | 4096 | 65536 | 1048576 | 16777216 | 268435456 | 4294967296 | 3.311502 |\n",
              "| 5.991465 | 16 | 0 | 1 | 0 | 15 | 2.2618 | 16 | 16 | 1 | ⋯ | 0 | 0 | 256 | 4096 | 65536 | 1048576 | 16777216 | 268435456 | 4294967296 | 3.311502 |\n",
              "| 4.711924 | 16 | 0 | 0 | 0 | 14 | 8.9502 | 18 | 20 | 1 | ⋯ | 0 | 0 | 256 | 4096 | 65536 | 1048576 | 16777216 | 268435456 | 4294967296 | 3.311502 |\n",
              "\n"
            ],
            "text/plain": [
              "  lnw_2016 educ black hispanic other exp afqt   mom_educ dad_educ yhea_100_1997\n",
              "1 4.076898 16   0     0        0     11  7.0724 12       12       3            \n",
              "2 3.294138  9   0     0        0     19  4.7481  9       10       2            \n",
              "3 2.830896  9   0     1        0     22  1.1987 12        9       3            \n",
              "4 4.306459 16   0     0        0     13  8.9321 16       18       2            \n",
              "5 5.991465 16   0     1        0     15  2.2618 16       16       1            \n",
              "6 4.711924 16   0     0        0     14  8.9502 18       20       1            \n",
              "  ⋯ _XPexp_22 _XPexp_23 educ2 educ3 educ4 educ5   educ6    educ7     educ8     \n",
              "1 ⋯ 0         0         256   4096  65536 1048576 16777216 268435456 4294967296\n",
              "2 ⋯ 0         0          81    729   6561   59049   531441   4782969   43046721\n",
              "3 ⋯ 1         0          81    729   6561   59049   531441   4782969   43046721\n",
              "4 ⋯ 0         0         256   4096  65536 1048576 16777216 268435456 4294967296\n",
              "5 ⋯ 0         0         256   4096  65536 1048576 16777216 268435456 4294967296\n",
              "6 ⋯ 0         0         256   4096  65536 1048576 16777216 268435456 4294967296\n",
              "  yhat    \n",
              "1 3.311502\n",
              "2 2.661006\n",
              "3 2.661006\n",
              "4 3.311502\n",
              "5 3.311502\n",
              "6 3.311502"
            ]
          },
          "metadata": {},
          "output_type": "display_data"
        }
      ],
      "source": [
        "head(nlsy)"
      ]
    },
    {
      "cell_type": "code",
      "execution_count": null,
      "id": "a5d8cb0f",
      "metadata": {
        "vscode": {
          "languageId": "r"
        },
        "id": "a5d8cb0f"
      },
      "outputs": [],
      "source": [
        "# Voy a calcular media condicial y la media conditional estimada por OLS\n",
        "\n",
        "summ <- nlsy %>%\n",
        "  group_by(\n",
        "    educ, educ2, educ3, educ4, educ5,\n",
        "    educ6, educ7, educ8\n",
        "  ) %>%\n",
        "  summarize(\n",
        "    mean_y = mean(lnw_2016),\n",
        "    yhat_reg = mean(yhat), .groups=\"drop\"\n",
        "  )"
      ]
    },
    {
      "cell_type": "code",
      "execution_count": null,
      "id": "801aa98f",
      "metadata": {
        "vscode": {
          "languageId": "r"
        },
        "id": "801aa98f",
        "outputId": "78aa6556-a98a-45fa-aae0-1b165783bae1"
      },
      "outputs": [
        {
          "data": {
            "text/html": [
              "<table class=\"dataframe\">\n",
              "<caption>A tibble: 6 × 10</caption>\n",
              "<thead>\n",
              "\t<tr><th scope=col>educ</th><th scope=col>educ2</th><th scope=col>educ3</th><th scope=col>educ4</th><th scope=col>educ5</th><th scope=col>educ6</th><th scope=col>educ7</th><th scope=col>educ8</th><th scope=col>mean_y</th><th scope=col>yhat_reg</th></tr>\n",
              "\t<tr><th scope=col>&lt;dbl&gt;</th><th scope=col>&lt;dbl&gt;</th><th scope=col>&lt;dbl&gt;</th><th scope=col>&lt;dbl&gt;</th><th scope=col>&lt;dbl&gt;</th><th scope=col>&lt;dbl&gt;</th><th scope=col>&lt;dbl&gt;</th><th scope=col>&lt;dbl&gt;</th><th scope=col>&lt;dbl&gt;</th><th scope=col>&lt;dbl&gt;</th></tr>\n",
              "</thead>\n",
              "<tbody>\n",
              "\t<tr><td> 8</td><td> 64</td><td> 512</td><td> 4096</td><td> 32768</td><td> 262144</td><td> 2097152</td><td> 16777216</td><td>2.893439</td><td>2.893126</td></tr>\n",
              "\t<tr><td> 9</td><td> 81</td><td> 729</td><td> 6561</td><td> 59049</td><td> 531441</td><td> 4782969</td><td> 43046721</td><td>2.660140</td><td>2.661006</td></tr>\n",
              "\t<tr><td>10</td><td>100</td><td>1000</td><td>10000</td><td>100000</td><td>1000000</td><td>10000000</td><td>100000000</td><td>2.592467</td><td>2.597356</td></tr>\n",
              "\t<tr><td>11</td><td>121</td><td>1331</td><td>14641</td><td>161051</td><td>1771561</td><td>19487171</td><td>214358881</td><td>2.862028</td><td>2.824300</td></tr>\n",
              "\t<tr><td>12</td><td>144</td><td>1728</td><td>20736</td><td>248832</td><td>2985984</td><td>35831808</td><td>429981696</td><td>2.948959</td><td>2.972449</td></tr>\n",
              "\t<tr><td>13</td><td>169</td><td>2197</td><td>28561</td><td>371293</td><td>4826809</td><td>62748517</td><td>815730721</td><td>3.080338</td><td>2.969692</td></tr>\n",
              "</tbody>\n",
              "</table>\n"
            ],
            "text/latex": [
              "A tibble: 6 × 10\n",
              "\\begin{tabular}{llllllllll}\n",
              " educ & educ2 & educ3 & educ4 & educ5 & educ6 & educ7 & educ8 & mean\\_y & yhat\\_reg\\\\\n",
              " <dbl> & <dbl> & <dbl> & <dbl> & <dbl> & <dbl> & <dbl> & <dbl> & <dbl> & <dbl>\\\\\n",
              "\\hline\n",
              "\t  8 &  64 &  512 &  4096 &  32768 &  262144 &  2097152 &  16777216 & 2.893439 & 2.893126\\\\\n",
              "\t  9 &  81 &  729 &  6561 &  59049 &  531441 &  4782969 &  43046721 & 2.660140 & 2.661006\\\\\n",
              "\t 10 & 100 & 1000 & 10000 & 100000 & 1000000 & 10000000 & 100000000 & 2.592467 & 2.597356\\\\\n",
              "\t 11 & 121 & 1331 & 14641 & 161051 & 1771561 & 19487171 & 214358881 & 2.862028 & 2.824300\\\\\n",
              "\t 12 & 144 & 1728 & 20736 & 248832 & 2985984 & 35831808 & 429981696 & 2.948959 & 2.972449\\\\\n",
              "\t 13 & 169 & 2197 & 28561 & 371293 & 4826809 & 62748517 & 815730721 & 3.080338 & 2.969692\\\\\n",
              "\\end{tabular}\n"
            ],
            "text/markdown": [
              "\n",
              "A tibble: 6 × 10\n",
              "\n",
              "| educ &lt;dbl&gt; | educ2 &lt;dbl&gt; | educ3 &lt;dbl&gt; | educ4 &lt;dbl&gt; | educ5 &lt;dbl&gt; | educ6 &lt;dbl&gt; | educ7 &lt;dbl&gt; | educ8 &lt;dbl&gt; | mean_y &lt;dbl&gt; | yhat_reg &lt;dbl&gt; |\n",
              "|---|---|---|---|---|---|---|---|---|---|\n",
              "|  8 |  64 |  512 |  4096 |  32768 |  262144 |  2097152 |  16777216 | 2.893439 | 2.893126 |\n",
              "|  9 |  81 |  729 |  6561 |  59049 |  531441 |  4782969 |  43046721 | 2.660140 | 2.661006 |\n",
              "| 10 | 100 | 1000 | 10000 | 100000 | 1000000 | 10000000 | 100000000 | 2.592467 | 2.597356 |\n",
              "| 11 | 121 | 1331 | 14641 | 161051 | 1771561 | 19487171 | 214358881 | 2.862028 | 2.824300 |\n",
              "| 12 | 144 | 1728 | 20736 | 248832 | 2985984 | 35831808 | 429981696 | 2.948959 | 2.972449 |\n",
              "| 13 | 169 | 2197 | 28561 | 371293 | 4826809 | 62748517 | 815730721 | 3.080338 | 2.969692 |\n",
              "\n"
            ],
            "text/plain": [
              "  educ educ2 educ3 educ4 educ5  educ6   educ7    educ8     mean_y   yhat_reg\n",
              "1  8    64    512   4096  32768  262144  2097152  16777216 2.893439 2.893126\n",
              "2  9    81    729   6561  59049  531441  4782969  43046721 2.660140 2.661006\n",
              "3 10   100   1000  10000 100000 1000000 10000000 100000000 2.592467 2.597356\n",
              "4 11   121   1331  14641 161051 1771561 19487171 214358881 2.862028 2.824300\n",
              "5 12   144   1728  20736 248832 2985984 35831808 429981696 2.948959 2.972449\n",
              "6 13   169   2197  28561 371293 4826809 62748517 815730721 3.080338 2.969692"
            ]
          },
          "metadata": {},
          "output_type": "display_data"
        }
      ],
      "source": [
        "head(summ)"
      ]
    },
    {
      "cell_type": "code",
      "execution_count": null,
      "id": "bacc3aa8",
      "metadata": {
        "vscode": {
          "languageId": "r"
        },
        "id": "bacc3aa8",
        "outputId": "1b6eb808-4acd-4205-9edc-9955e1919635"
      },
      "outputs": [
        {
          "data": {
            "image/png": "[encoded data removed]",
            "text/plain": [
              "plot without title"
            ]
          },
          "metadata": {
            "image/png": {
              "height": 420,
              "width": 420
            }
          },
          "output_type": "display_data"
        }
      ],
      "source": [
        "# graficamos\n",
        "ggplot(summ) +\n",
        "  geom_point(\n",
        "    aes(x = educ, y = mean_y),\n",
        "    color = \"blue\", size = 2\n",
        "  ) +\n",
        "  geom_line(\n",
        "    aes(x = educ, y = yhat_reg),\n",
        "    color = \"green\", linewidth = 1.5\n",
        "  ) +\n",
        "  labs(\n",
        "    title = \"ln Wages by Education in the NLSY\",\n",
        "    x = \"Years of Schooling\",\n",
        "    y = \"ln Wages\"\n",
        "  ) +\n",
        "  theme_bw()\n"
      ]
    },
    {
      "cell_type": "markdown",
      "id": "57fd77cb",
      "metadata": {
        "id": "57fd77cb"
      },
      "source": [
        "Como podemos ver, la regresión lineal, puede aproximar cualquier función continua y ciertamente puede ser un buen modelo para la predicción.\n",
        "\n",
        "Incluyendo un conjunto lo suficientemente rico de transformaciones, las predicciones de OLS producirán estimaciones insesgadas del verdadero predictor ideal: la función de expectativa condicional. Pero estas estimaciones serán bastante ruidosas."
      ]
    }
  ],
  "metadata": {
    "kernelspec": {
      "display_name": "R",
      "language": "R",
      "name": "ir"
    },
    "language_info": {
      "codemirror_mode": "r",
      "file_extension": ".r",
      "mimetype": "text/x-r-source",
      "name": "R",
      "pygments_lexer": "r",
      "version": "4.4.1"
    },
    "toc": {
      "base_numbering": 1,
      "nav_menu": {},
      "number_sections": true,
      "sideBar": true,
      "skip_h1_title": false,
      "title_cell": "Table of Contents",
      "title_sidebar": "Contents",
      "toc_cell": false,
      "toc_position": {},
      "toc_section_display": true,
      "toc_window_display": false
    },
    "colab": {
      "provenance": []
    }
  },
  "nbformat": 4,
  "nbformat_minor": 5
}